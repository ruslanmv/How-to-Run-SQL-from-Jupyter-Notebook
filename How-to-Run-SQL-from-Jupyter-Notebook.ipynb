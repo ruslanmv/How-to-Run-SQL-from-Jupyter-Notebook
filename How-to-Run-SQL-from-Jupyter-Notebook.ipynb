{
 "cells": [
  {
   "cell_type": "markdown",
   "id": "3a8e5276",
   "metadata": {},
   "source": [
    "# How to connect to mysql using python and import the csv file into mysql  from-Jupyter-Notebook"
   ]
  },
  {
   "cell_type": "markdown",
   "id": "f73dadc6",
   "metadata": {},
   "source": [
    "In ordering to keep safe our credentials we save our credentials in a file **credentials.json**"
   ]
  },
  {
   "cell_type": "markdown",
   "id": "b034a420",
   "metadata": {},
   "source": [
    "```\n",
    "{\n",
    "  \"host\":\"sql11.freesqldatabase.com\",\n",
    "  \"database\":\"xxxxxx\",\n",
    "  \"user\":\"xxxxxxx\",\n",
    "  \"password\":\"xxxxxx\"\n",
    "\n",
    "}\n",
    "```"
   ]
  },
  {
   "cell_type": "code",
   "execution_count": 224,
   "id": "6a315f15",
   "metadata": {},
   "outputs": [],
   "source": [
    "# Python program to read\n",
    "# json file\n",
    "import json\n",
    "# Opening JSON file\n",
    "f = open('credentials.json')"
   ]
  },
  {
   "cell_type": "code",
   "execution_count": 225,
   "id": "9e70b075",
   "metadata": {},
   "outputs": [],
   "source": [
    "# returns JSON object as\n",
    "# a dictionary\n",
    "data = json.load(f)"
   ]
  },
  {
   "cell_type": "code",
   "execution_count": 226,
   "id": "27e3105c",
   "metadata": {},
   "outputs": [],
   "source": [
    "# You can uncommnet to see if you put correct credentials\n",
    "#for i in data:\n",
    "#    print(data[i])"
   ]
  },
  {
   "cell_type": "code",
   "execution_count": 227,
   "id": "a4fa753c",
   "metadata": {},
   "outputs": [
    {
     "data": {
      "text/plain": [
       "'sql11.freesqldatabase.com'"
      ]
     },
     "execution_count": 227,
     "metadata": {},
     "output_type": "execute_result"
    }
   ],
   "source": [
    "#You can identify the database you have created\n",
    "data['host']"
   ]
  },
  {
   "cell_type": "code",
   "execution_count": 228,
   "id": "4ad00144",
   "metadata": {},
   "outputs": [],
   "source": [
    "import mysql.connector"
   ]
  },
  {
   "cell_type": "code",
   "execution_count": 229,
   "id": "a725e98f",
   "metadata": {},
   "outputs": [],
   "source": [
    "import mysql.connector\n",
    "from mysql.connector import Error"
   ]
  },
  {
   "cell_type": "markdown",
   "id": "75afa8d1",
   "metadata": {},
   "source": [
    "# Checking our Mysql connection"
   ]
  },
  {
   "cell_type": "code",
   "execution_count": 44,
   "id": "263acd00",
   "metadata": {},
   "outputs": [],
   "source": [
    "connection = mysql.connector.connect(host=data['host'],\n",
    "                                         database=data['database'],\n",
    "                                         user=data['user'],\n",
    "                                         password=data['password'])"
   ]
  },
  {
   "cell_type": "code",
   "execution_count": 45,
   "id": "fe3a0461",
   "metadata": {},
   "outputs": [
    {
     "name": "stdout",
     "output_type": "stream",
     "text": [
      "Connected to MySQL Server version  5.5.62-0ubuntu0.14.04.1\n",
      "You're connected to database:  ('sql11501562',)\n",
      "MySQL connection is closed\n"
     ]
    }
   ],
   "source": [
    "try:\n",
    "    connection = mysql.connector.connect(host=data['host'],\n",
    "                                             database=data['database'],\n",
    "                                             user=data['user'],\n",
    "                                             password=data['password'])\n",
    "    if connection.is_connected():\n",
    "        db_Info = connection.get_server_info()\n",
    "        print(\"Connected to MySQL Server version \", db_Info)\n",
    "        cursor = connection.cursor()\n",
    "        cursor.execute(\"select database();\")\n",
    "        record = cursor.fetchone()\n",
    "        print(\"You're connected to database: \", record)\n",
    "\n",
    "except Error as e:\n",
    "    print(\"Error while connecting to MySQL\", e)\n",
    "finally:\n",
    "    if connection.is_connected():\n",
    "        cursor.close()\n",
    "        connection.close()\n",
    "        print(\"MySQL connection is closed\")"
   ]
  },
  {
   "cell_type": "markdown",
   "id": "9543161b",
   "metadata": {},
   "source": [
    "# Create MySQL table from Python "
   ]
  },
  {
   "cell_type": "markdown",
   "id": "7b063f87",
   "metadata": {},
   "source": [
    "Create MySQL table from Python\n",
    "Now you know how to connect to a MySQL server from Python, In this section, we will learn how to create a table in MySQL from Python. Let’s create table ‘Laptop’ under the ‘Electronics’ database."
   ]
  },
  {
   "cell_type": "code",
   "execution_count": 47,
   "id": "7b7c2776",
   "metadata": {},
   "outputs": [
    {
     "name": "stdout",
     "output_type": "stream",
     "text": [
      "Failed to create table in MySQL: 1050 (42S01): Table 'Laptop' already exists\n",
      "MySQL connection is closed\n"
     ]
    }
   ],
   "source": [
    "import mysql.connector\n",
    "\n",
    "try:\n",
    "    connection = mysql.connector.connect(host=data['host'],\n",
    "                                             database=data['database'],\n",
    "                                             user=data['user'],\n",
    "                                             password=data['password'])\n",
    "\n",
    "    mySql_Create_Table_Query = \"\"\"CREATE TABLE Laptop ( \n",
    "                             Id int(11) NOT NULL,\n",
    "                             Name varchar(250) NOT NULL,\n",
    "                             Price float NOT NULL,\n",
    "                             Purchase_date Date NOT NULL,\n",
    "                             PRIMARY KEY (Id)) \"\"\"\n",
    "\n",
    "    cursor = connection.cursor()\n",
    "    result = cursor.execute(mySql_Create_Table_Query)\n",
    "    print(\"Laptop Table created successfully \")\n",
    "\n",
    "except mysql.connector.Error as error:\n",
    "    print(\"Failed to create table in MySQL: {}\".format(error))\n",
    "finally:\n",
    "    if connection.is_connected():\n",
    "        cursor.close()\n",
    "        connection.close()\n",
    "        print(\"MySQL connection is closed\")\n"
   ]
  },
  {
   "cell_type": "markdown",
   "id": "ed4766f2",
   "metadata": {},
   "source": [
    "# Create MySQL table with Pandas"
   ]
  },
  {
   "cell_type": "code",
   "execution_count": 168,
   "id": "dd8760a2",
   "metadata": {},
   "outputs": [],
   "source": [
    "import pandas as pd"
   ]
  },
  {
   "cell_type": "markdown",
   "id": "6b87ae9e",
   "metadata": {},
   "source": [
    "## Create an in-memory SQLite database."
   ]
  },
  {
   "cell_type": "code",
   "execution_count": 53,
   "id": "1f5a5a2e",
   "metadata": {},
   "outputs": [],
   "source": [
    "from sqlalchemy import create_engine\n",
    "engine = create_engine('sqlite://', echo=False)"
   ]
  },
  {
   "cell_type": "code",
   "execution_count": 54,
   "id": "d1a00b17",
   "metadata": {},
   "outputs": [
    {
     "data": {
      "text/html": [
       "<div>\n",
       "<style scoped>\n",
       "    .dataframe tbody tr th:only-of-type {\n",
       "        vertical-align: middle;\n",
       "    }\n",
       "\n",
       "    .dataframe tbody tr th {\n",
       "        vertical-align: top;\n",
       "    }\n",
       "\n",
       "    .dataframe thead th {\n",
       "        text-align: right;\n",
       "    }\n",
       "</style>\n",
       "<table border=\"1\" class=\"dataframe\">\n",
       "  <thead>\n",
       "    <tr style=\"text-align: right;\">\n",
       "      <th></th>\n",
       "      <th>name</th>\n",
       "    </tr>\n",
       "  </thead>\n",
       "  <tbody>\n",
       "    <tr>\n",
       "      <th>0</th>\n",
       "      <td>User 1</td>\n",
       "    </tr>\n",
       "    <tr>\n",
       "      <th>1</th>\n",
       "      <td>User 2</td>\n",
       "    </tr>\n",
       "    <tr>\n",
       "      <th>2</th>\n",
       "      <td>User 3</td>\n",
       "    </tr>\n",
       "  </tbody>\n",
       "</table>\n",
       "</div>"
      ],
      "text/plain": [
       "     name\n",
       "0  User 1\n",
       "1  User 2\n",
       "2  User 3"
      ]
     },
     "execution_count": 54,
     "metadata": {},
     "output_type": "execute_result"
    }
   ],
   "source": [
    "df = pd.DataFrame({'name' : ['User 1', 'User 2', 'User 3']})\n",
    "df"
   ]
  },
  {
   "cell_type": "code",
   "execution_count": 55,
   "id": "ab5a7c99",
   "metadata": {},
   "outputs": [],
   "source": [
    "df.to_sql('users', con=engine)"
   ]
  },
  {
   "cell_type": "markdown",
   "id": "f22ff31b",
   "metadata": {},
   "source": [
    "An sqlalchemy.engine.Connection can also be passed to con:"
   ]
  },
  {
   "cell_type": "code",
   "execution_count": 56,
   "id": "413758e9",
   "metadata": {},
   "outputs": [],
   "source": [
    "with engine.begin() as connection:\n",
    "    df1 = pd.DataFrame({'name' : ['User 4', 'User 5']})\n",
    "    df1.to_sql('users', con=connection, if_exists='append')"
   ]
  },
  {
   "cell_type": "markdown",
   "id": "35611555",
   "metadata": {},
   "source": [
    "This is allowed to support operations that require that the same DBAPI connection is used for the entire operation."
   ]
  },
  {
   "cell_type": "code",
   "execution_count": 57,
   "id": "af218a88",
   "metadata": {},
   "outputs": [],
   "source": [
    "df2 = pd.DataFrame({'name' : ['User 6', 'User 7']})\n",
    "df2.to_sql('users', con=engine, if_exists='append')"
   ]
  },
  {
   "cell_type": "code",
   "execution_count": 58,
   "id": "ad65c4fe",
   "metadata": {},
   "outputs": [
    {
     "data": {
      "text/plain": [
       "[(0, 'User 1'),\n",
       " (1, 'User 2'),\n",
       " (2, 'User 3'),\n",
       " (0, 'User 4'),\n",
       " (1, 'User 5'),\n",
       " (0, 'User 6'),\n",
       " (1, 'User 7')]"
      ]
     },
     "execution_count": 58,
     "metadata": {},
     "output_type": "execute_result"
    }
   ],
   "source": [
    "engine.execute(\"SELECT * FROM users\").fetchall()"
   ]
  },
  {
   "cell_type": "markdown",
   "id": "371548ee",
   "metadata": {},
   "source": [
    "## Create an MySQL database with Pandas in real Database"
   ]
  },
  {
   "cell_type": "markdown",
   "id": "4a5be798",
   "metadata": {},
   "source": [
    "## First method with mysql.connector "
   ]
  },
  {
   "cell_type": "markdown",
   "id": "1f9def3f",
   "metadata": {},
   "source": [
    "### Step 1: Prepare the CSV File\n",
    "To begin, prepare the CSV file that you'd like to import to MySQL. For example, I prepared a simple CSV file with the following data:"
   ]
  },
  {
   "cell_type": "code",
   "execution_count": 90,
   "id": "aecc4d08",
   "metadata": {},
   "outputs": [],
   "source": [
    "df=pd.read_csv('gpu.csv')  "
   ]
  },
  {
   "cell_type": "code",
   "execution_count": 91,
   "id": "6f27ae50",
   "metadata": {},
   "outputs": [
    {
     "data": {
      "text/html": [
       "<div>\n",
       "<style scoped>\n",
       "    .dataframe tbody tr th:only-of-type {\n",
       "        vertical-align: middle;\n",
       "    }\n",
       "\n",
       "    .dataframe tbody tr th {\n",
       "        vertical-align: top;\n",
       "    }\n",
       "\n",
       "    .dataframe thead th {\n",
       "        text-align: right;\n",
       "    }\n",
       "</style>\n",
       "<table border=\"1\" class=\"dataframe\">\n",
       "  <thead>\n",
       "    <tr style=\"text-align: right;\">\n",
       "      <th></th>\n",
       "      <th>Product Name</th>\n",
       "      <th>GPU Chip</th>\n",
       "      <th>Released</th>\n",
       "      <th>Bus</th>\n",
       "      <th>Memory</th>\n",
       "      <th>GPU clock</th>\n",
       "      <th>Memory clock</th>\n",
       "    </tr>\n",
       "  </thead>\n",
       "  <tbody>\n",
       "    <tr>\n",
       "      <th>0</th>\n",
       "      <td>GeForce RTX 3060</td>\n",
       "      <td>GA106</td>\n",
       "      <td>Jan 12th, 2021</td>\n",
       "      <td>PCIe 4.0 x16</td>\n",
       "      <td>12 GB, GDDR6, 192 bit</td>\n",
       "      <td>1320 MHz</td>\n",
       "      <td>1875 MHz</td>\n",
       "    </tr>\n",
       "    <tr>\n",
       "      <th>1</th>\n",
       "      <td>GeForce RTX 3060 Ti</td>\n",
       "      <td>GA104</td>\n",
       "      <td>Dec 1st, 2020</td>\n",
       "      <td>PCIe 4.0 x16</td>\n",
       "      <td>8 GB, GDDR6, 256 bit</td>\n",
       "      <td>1410 MHz</td>\n",
       "      <td>1750 MHz</td>\n",
       "    </tr>\n",
       "    <tr>\n",
       "      <th>2</th>\n",
       "      <td>GeForce RTX 3070</td>\n",
       "      <td>GA104</td>\n",
       "      <td>Sep 1st, 2020</td>\n",
       "      <td>PCIe 4.0 x16</td>\n",
       "      <td>8 GB, GDDR6, 256 bit</td>\n",
       "      <td>1500 MHz</td>\n",
       "      <td>1750 MHz</td>\n",
       "    </tr>\n",
       "    <tr>\n",
       "      <th>3</th>\n",
       "      <td>GeForce RTX 3080</td>\n",
       "      <td>GA102</td>\n",
       "      <td>Sep 1st, 2020</td>\n",
       "      <td>PCIe 4.0 x16</td>\n",
       "      <td>10 GB, GDDR6X, 320 bit</td>\n",
       "      <td>1440 MHz</td>\n",
       "      <td>1188 MHz</td>\n",
       "    </tr>\n",
       "    <tr>\n",
       "      <th>4</th>\n",
       "      <td>Radeon RX 6600 XT</td>\n",
       "      <td>Navi 23</td>\n",
       "      <td>Jul 30th, 2021</td>\n",
       "      <td>PCIe 4.0 x8</td>\n",
       "      <td>8 GB, GDDR6, 128 bit</td>\n",
       "      <td>1968 MHz</td>\n",
       "      <td>2000 MHz</td>\n",
       "    </tr>\n",
       "  </tbody>\n",
       "</table>\n",
       "</div>"
      ],
      "text/plain": [
       "          Product Name GPU Chip        Released           Bus  \\\n",
       "0     GeForce RTX 3060    GA106  Jan 12th, 2021  PCIe 4.0 x16   \n",
       "1  GeForce RTX 3060 Ti    GA104   Dec 1st, 2020  PCIe 4.0 x16   \n",
       "2     GeForce RTX 3070    GA104   Sep 1st, 2020  PCIe 4.0 x16   \n",
       "3     GeForce RTX 3080    GA102   Sep 1st, 2020  PCIe 4.0 x16   \n",
       "4    Radeon RX 6600 XT  Navi 23  Jul 30th, 2021   PCIe 4.0 x8   \n",
       "\n",
       "                   Memory GPU clock Memory clock  \n",
       "0   12 GB, GDDR6, 192 bit  1320 MHz     1875 MHz  \n",
       "1    8 GB, GDDR6, 256 bit  1410 MHz     1750 MHz  \n",
       "2    8 GB, GDDR6, 256 bit  1500 MHz     1750 MHz  \n",
       "3  10 GB, GDDR6X, 320 bit  1440 MHz     1188 MHz  \n",
       "4    8 GB, GDDR6, 128 bit  1968 MHz     2000 MHz  "
      ]
     },
     "execution_count": 91,
     "metadata": {},
     "output_type": "execute_result"
    }
   ],
   "source": [
    "df.head()"
   ]
  },
  {
   "cell_type": "code",
   "execution_count": 92,
   "id": "6ab597de",
   "metadata": {},
   "outputs": [
    {
     "data": {
      "text/plain": [
       "Index(['Product Name', 'GPU Chip', 'Released', 'Bus', 'Memory', 'GPU clock',\n",
       "       'Memory clock'],\n",
       "      dtype='object')"
      ]
     },
     "execution_count": 92,
     "metadata": {},
     "output_type": "execute_result"
    }
   ],
   "source": [
    "df.columns"
   ]
  },
  {
   "cell_type": "code",
   "execution_count": 93,
   "id": "814ccff3",
   "metadata": {},
   "outputs": [],
   "source": [
    "import pandas\n",
    "from pandas.io.json import build_table_schema"
   ]
  },
  {
   "cell_type": "code",
   "execution_count": 94,
   "id": "76de904c",
   "metadata": {},
   "outputs": [
    {
     "data": {
      "text/plain": [
       "{'fields': [{'name': 'index', 'type': 'integer'},\n",
       "  {'name': 'Product Name', 'type': 'string'},\n",
       "  {'name': 'GPU Chip', 'type': 'string'},\n",
       "  {'name': 'Released', 'type': 'string'},\n",
       "  {'name': 'Bus', 'type': 'string'},\n",
       "  {'name': 'Memory', 'type': 'string'},\n",
       "  {'name': 'GPU clock', 'type': 'string'},\n",
       "  {'name': 'Memory clock', 'type': 'string'}],\n",
       " 'primaryKey': ['index'],\n",
       " 'pandas_version': '0.20.0'}"
      ]
     },
     "execution_count": 94,
     "metadata": {},
     "output_type": "execute_result"
    }
   ],
   "source": [
    "build_table_schema(df)"
   ]
  },
  {
   "cell_type": "code",
   "execution_count": 95,
   "id": "27dc6cb5",
   "metadata": {},
   "outputs": [],
   "source": [
    " data_set=df"
   ]
  },
  {
   "cell_type": "code",
   "execution_count": 96,
   "id": "a8ff1f2e",
   "metadata": {},
   "outputs": [],
   "source": [
    "num_cols = len(data_set.axes[1])"
   ]
  },
  {
   "cell_type": "code",
   "execution_count": 97,
   "id": "e046c13b",
   "metadata": {},
   "outputs": [
    {
     "name": "stdout",
     "output_type": "stream",
     "text": [
      "7\n"
     ]
    }
   ],
   "source": [
    "print(num_cols)"
   ]
  },
  {
   "cell_type": "code",
   "execution_count": 98,
   "id": "0bf299db",
   "metadata": {},
   "outputs": [],
   "source": [
    "col_count = [len(l.split(\",\")) for l in data_set.columns]"
   ]
  },
  {
   "cell_type": "code",
   "execution_count": 99,
   "id": "f619358a",
   "metadata": {},
   "outputs": [
    {
     "name": "stdout",
     "output_type": "stream",
     "text": [
      "<class 'list'>\n"
     ]
    }
   ],
   "source": [
    "print(type(col_count)) "
   ]
  },
  {
   "cell_type": "code",
   "execution_count": 100,
   "id": "780637b4",
   "metadata": {},
   "outputs": [
    {
     "name": "stdout",
     "output_type": "stream",
     "text": [
      "7\n"
     ]
    }
   ],
   "source": [
    " print(len(col_count))"
   ]
  },
  {
   "cell_type": "markdown",
   "id": "cb71ecd9",
   "metadata": {},
   "source": [
    "First, I establish the CREATE TABLE command and table name – ‘gpu_data’ – for this example, storing it in an ‘SQL_CREATE_TBL’ variable:"
   ]
  },
  {
   "cell_type": "code",
   "execution_count": 143,
   "id": "c683548a",
   "metadata": {},
   "outputs": [],
   "source": [
    "SQL_CREATE_TBL = \"CREATE TABLE gpu_data(\""
   ]
  },
  {
   "cell_type": "code",
   "execution_count": 146,
   "id": "bbebd8f3",
   "metadata": {},
   "outputs": [],
   "source": [
    "for name in range(0, len(col_count)):\n",
    "    column_name=data_set.columns[name].replace(' ', '_')\n",
    "    SQL_CREATE_TBL += \"{} TEXT, \".format(column_name)"
   ]
  },
  {
   "cell_type": "markdown",
   "id": "5fbe3102",
   "metadata": {},
   "source": [
    "Let’s view the ‘SQL_CREATE_TBL’ string variable contents once the for loop completes:"
   ]
  },
  {
   "cell_type": "code",
   "execution_count": 145,
   "id": "ef2f98cf",
   "metadata": {},
   "outputs": [
    {
     "data": {
      "text/plain": [
       "'CREATE TABLE gpu_data(Product_Name TEXT, GPU_Chip TEXT, Released TEXT, Bus TEXT, Memory TEXT, GPU_clock TEXT, Memory_clock TEXT, '"
      ]
     },
     "execution_count": 145,
     "metadata": {},
     "output_type": "execute_result"
    }
   ],
   "source": [
    "SQL_CREATE_TBL "
   ]
  },
  {
   "cell_type": "code",
   "execution_count": 104,
   "id": "7a95c4e7",
   "metadata": {},
   "outputs": [],
   "source": [
    "SQL_CREATE_TBL = SQL_CREATE_TBL.rstrip(\" ,\")"
   ]
  },
  {
   "cell_type": "markdown",
   "id": "4b912633",
   "metadata": {},
   "source": [
    "All that’s left to complete the CREATE TABLE statement, is simply append the closing parenthesis and semicolon to the ‘SQL_CREATE_TBL’ variable:"
   ]
  },
  {
   "cell_type": "code",
   "execution_count": 105,
   "id": "2ab49eee",
   "metadata": {},
   "outputs": [],
   "source": [
    "SQL_CREATE_TBL += \");\""
   ]
  },
  {
   "cell_type": "code",
   "execution_count": 106,
   "id": "fdc9603e",
   "metadata": {},
   "outputs": [
    {
     "data": {
      "text/plain": [
       "'CREATE TABLE so_data(Product Name TEXT, GPU Chip TEXT, Released TEXT, Bus TEXT, Memory TEXT, GPU clock TEXT, Memory clock TEXT);'"
      ]
     },
     "execution_count": 106,
     "metadata": {},
     "output_type": "execute_result"
    }
   ],
   "source": [
    "SQL_CREATE_TBL "
   ]
  },
  {
   "cell_type": "markdown",
   "id": "2eae70b6",
   "metadata": {},
   "source": [
    "The entire code structure for the dynamic CREATE TABLE statement is shown below:"
   ]
  },
  {
   "cell_type": "code",
   "execution_count": 151,
   "id": "b65524b5",
   "metadata": {},
   "outputs": [],
   "source": [
    "SQL_CREATE_TBL = \"CREATE TABLE gpu_data(\"\n",
    "for name in range(0, len(col_count)):\n",
    "     column_name=data_set.columns[name].replace(' ', '_')\n",
    "     SQL_CREATE_TBL += \"{} TEXT, \".format(column_name)\n",
    "SQL_CREATE_TBL = SQL_CREATE_TBL.rstrip(\" ,\")\n",
    "SQL_CREATE_TBL += \");\""
   ]
  },
  {
   "cell_type": "code",
   "execution_count": 152,
   "id": "74030f97",
   "metadata": {},
   "outputs": [
    {
     "data": {
      "text/plain": [
       "'CREATE TABLE gpu_data(Product_Name TEXT, GPU_Chip TEXT, Released TEXT, Bus TEXT, Memory TEXT, GPU_clock TEXT, Memory_clock TEXT);'"
      ]
     },
     "execution_count": 152,
     "metadata": {},
     "output_type": "execute_result"
    }
   ],
   "source": [
    "SQL_CREATE_TBL"
   ]
  },
  {
   "cell_type": "code",
   "execution_count": 153,
   "id": "c1ae5c01",
   "metadata": {},
   "outputs": [],
   "source": [
    "SQL_CREATE_TBL = \"CREATE TABLE gpu_data(\"\n",
    "for name in range(0, len(col_count)):\n",
    "        column_name=data_set.columns[name].replace(' ', '_')\n",
    "        SQL_CREATE_TBL += \"{} varchar(255), \".format(column_name)\n",
    "SQL_CREATE_TBL = SQL_CREATE_TBL.rstrip(\" ,\")\n",
    "SQL_CREATE_TBL += \")\""
   ]
  },
  {
   "cell_type": "code",
   "execution_count": 155,
   "id": "189ae3f9",
   "metadata": {},
   "outputs": [
    {
     "data": {
      "text/plain": [
       "'CREATE TABLE gpu_data(Product_Name varchar(255), GPU_Chip varchar(255), Released varchar(255), Bus varchar(255), Memory varchar(255), GPU_clock varchar(255), Memory_clock varchar(255))'"
      ]
     },
     "execution_count": 155,
     "metadata": {},
     "output_type": "execute_result"
    }
   ],
   "source": [
    "SQL_CREATE_TBL"
   ]
  },
  {
   "cell_type": "markdown",
   "id": "b052ef30",
   "metadata": {},
   "source": [
    "## Step 2: Connect to the MySQL using Python and create a Database"
   ]
  },
  {
   "cell_type": "markdown",
   "id": "09e73e4f",
   "metadata": {},
   "source": [
    "Create a connection object to connect to MySQL, The connect() constructor creates a connection to the MySQL and returns a MySQLConnection object."
   ]
  },
  {
   "cell_type": "code",
   "execution_count": 117,
   "id": "53433ae2",
   "metadata": {},
   "outputs": [],
   "source": [
    "connection = mysql.connector.connect(    host=data['host'],\n",
    "                                         database=data['database'],\n",
    "                                         user=data['user'],\n",
    "                                         password=data['password'])"
   ]
  },
  {
   "cell_type": "markdown",
   "id": "fe8a1fea",
   "metadata": {},
   "source": [
    "## Step 3: Create a table and Import the CSV data into the MySQL table\n",
    "We will create an gpus table under the our  database and insert the records in MySQL with below python code."
   ]
  },
  {
   "cell_type": "code",
   "execution_count": 156,
   "id": "94abe775",
   "metadata": {},
   "outputs": [],
   "source": [
    "cursor.close()\n",
    "connection.close()"
   ]
  },
  {
   "cell_type": "code",
   "execution_count": 157,
   "id": "5d070ba9",
   "metadata": {},
   "outputs": [
    {
     "name": "stdout",
     "output_type": "stream",
     "text": [
      "You're connected to database:  ('sql11501562',)\n",
      "Creating table....\n",
      "Table is created....\n",
      "Record inserted\n",
      "Record inserted\n",
      "Record inserted\n",
      "Record inserted\n",
      "Record inserted\n",
      "Record inserted\n",
      "Record inserted\n",
      "Record inserted\n",
      "Record inserted\n",
      "Record inserted\n",
      "Record inserted\n",
      "Record inserted\n",
      "Record inserted\n",
      "Record inserted\n",
      "Record inserted\n",
      "Record inserted\n",
      "Record inserted\n",
      "Record inserted\n",
      "Record inserted\n",
      "Record inserted\n",
      "Record inserted\n",
      "Record inserted\n",
      "Record inserted\n",
      "Record inserted\n",
      "Record inserted\n",
      "Record inserted\n",
      "Record inserted\n",
      "Record inserted\n",
      "Record inserted\n",
      "Record inserted\n",
      "Record inserted\n",
      "Record inserted\n",
      "Record inserted\n",
      "Record inserted\n",
      "Record inserted\n",
      "Record inserted\n",
      "Record inserted\n",
      "Record inserted\n",
      "Record inserted\n",
      "Record inserted\n",
      "Record inserted\n",
      "Record inserted\n",
      "Record inserted\n",
      "Record inserted\n",
      "Record inserted\n",
      "Record inserted\n",
      "Record inserted\n",
      "Record inserted\n",
      "Record inserted\n",
      "Record inserted\n"
     ]
    }
   ],
   "source": [
    "import mysql.connector as msql\n",
    "from mysql.connector import Error\n",
    "try:\n",
    "    #conn = mysql.connect(host='localhost', database='employee', user='root', password='root@123')\n",
    "    \n",
    "    conn = mysql.connector.connect(host=data['host'],database=data['database'],user=data['user'],password=data['password'])\n",
    "    if conn.is_connected():\n",
    "        cursor = conn.cursor()\n",
    "        cursor.execute(\"select database();\")\n",
    "        record = cursor.fetchone()\n",
    "        print(\"You're connected to database: \", record)\n",
    "        cursor.execute('DROP TABLE IF EXISTS gpu_data;')\n",
    "        print('Creating table....')\n",
    "# in the below line please pass the create table statement which you want #to create\n",
    "        cursor.execute(SQL_CREATE_TBL)\n",
    "        print(\"Table is created....\")\n",
    "        #loop through the data frame\n",
    "        for i,row in df.iterrows():\n",
    "            #here %S means string values \n",
    "            sql = \"INSERT INTO \"+data['database']+\".gpu_data VALUES (%s,%s,%s,%s,%s,%s,%s)\"\n",
    "            cursor.execute(sql, tuple(row))\n",
    "            print(\"Record inserted\")\n",
    "            # the connection is not auto committed by default, so we must commit to save our changes\n",
    "            conn.commit()\n",
    "except Error as e:\n",
    "            print(\"Error while connecting to MySQL\", e)"
   ]
  },
  {
   "cell_type": "markdown",
   "id": "b4ddd866",
   "metadata": {},
   "source": [
    "## Step 5 : Query the Table\n",
    "Query the table to make sure that our inserted data has been saved correctly."
   ]
  },
  {
   "cell_type": "code",
   "execution_count": 158,
   "id": "c7badeae",
   "metadata": {},
   "outputs": [],
   "source": [
    "# Execute query\n",
    "sql = \"SELECT * FROM \"+data['database']+\".gpu_data\"\n",
    "#sql = \"SELECT * FROM employee.employee_data\""
   ]
  },
  {
   "cell_type": "code",
   "execution_count": 159,
   "id": "bb1a182b",
   "metadata": {},
   "outputs": [],
   "source": [
    "cursor.execute(sql)"
   ]
  },
  {
   "cell_type": "code",
   "execution_count": 160,
   "id": "c1474118",
   "metadata": {},
   "outputs": [
    {
     "name": "stdout",
     "output_type": "stream",
     "text": [
      "('GeForce RTX 3060', 'GA106', 'Jan 12th, 2021', 'PCIe 4.0 x16', '12 GB, GDDR6, 192 bit', '1320 MHz', '1875 MHz')\n",
      "('GeForce RTX 3060 Ti', 'GA104', 'Dec 1st, 2020', 'PCIe 4.0 x16', '8 GB, GDDR6, 256 bit', '1410 MHz', '1750 MHz')\n",
      "('GeForce RTX 3070', 'GA104', 'Sep 1st, 2020', 'PCIe 4.0 x16', '8 GB, GDDR6, 256 bit', '1500 MHz', '1750 MHz')\n",
      "('GeForce RTX 3080', 'GA102', 'Sep 1st, 2020', 'PCIe 4.0 x16', '10 GB, GDDR6X, 320 bit', '1440 MHz', '1188 MHz')\n",
      "('Radeon RX 6600 XT', 'Navi 23', 'Jul 30th, 2021', 'PCIe 4.0 x8', '8 GB, GDDR6, 128 bit', '1968 MHz', '2000 MHz')\n",
      "('GeForce RTX 2060', 'TU106', 'Jan 7th, 2019', 'PCIe 3.0 x16', '6 GB, GDDR6, 192 bit', '1365 MHz', '1750 MHz')\n",
      "('Radeon RX 6600', 'Navi 23', 'Oct 13th, 2021', 'PCIe 4.0 x8', '8 GB, GDDR6, 128 bit', '1626 MHz', '1750 MHz')\n",
      "('GeForce RTX 3050 8 GB', 'GA106', 'Jan 4th, 2022', 'PCIe 4.0 x8', '8 GB, GDDR6, 128 bit', '1552 MHz', '1750 MHz')\n",
      "('GeForce RTX 3090 Ti', 'GA102', 'Jan 27th, 2022', 'PCIe 4.0 x16', '24 GB, GDDR6X, 384 bit', '1560 MHz', '1313 MHz')\n",
      "('GeForce RTX 3070 Ti', 'GA104', 'May 31st, 2021', 'PCIe 4.0 x16', '8 GB, GDDR6X, 256 bit', '1575 MHz', '1188 MHz')\n",
      "('Radeon RX 6700 XT', 'Navi 22', 'Mar 3rd, 2021', 'PCIe 4.0 x16', '12 GB, GDDR6, 192 bit', '2321 MHz', '2000 MHz')\n",
      "('GeForce GTX 1060 6 GB', 'GP106', 'Jul 19th, 2016', 'PCIe 3.0 x16', '6 GB, GDDR5, 192 bit', '1506 MHz', '2002 MHz')\n",
      "('GeForce GTX 1050 Ti', 'GP107', 'Oct 25th, 2016', 'PCIe 3.0 x16', '4 GB, GDDR5, 128 bit', '1291 MHz', '1752 MHz')\n",
      "('GeForce GTX 1650', 'TU117', 'Apr 23rd, 2019', 'PCIe 3.0 x16', '4 GB, GDDR5, 128 bit', '1485 MHz', '2001 MHz')\n",
      "('GeForce GTX 970', 'GM204', 'Sep 19th, 2014', 'PCIe 3.0 x16', '4 GB, GDDR5, 256 bit', '1050 MHz', '1753 MHz')\n",
      "('GeForce GTX 1080 Ti', 'GP102', 'Mar 10th, 2017', 'PCIe 3.0 x16', '11 GB, GDDR5X, 352 bit', '1481 MHz', '1376 MHz')\n",
      "('GeForce RTX 3090', 'GA102', 'Sep 1st, 2020', 'PCIe 4.0 x16', '24 GB, GDDR6X, 384 bit', '1395 MHz', '1219 MHz')\n",
      "('GeForce GTX 1070', 'GP104', 'Jun 10th, 2016', 'PCIe 3.0 x16', '8 GB, GDDR5, 256 bit', '1506 MHz', '2002 MHz')\n",
      "('Radeon RX 580', 'Polaris 20', 'Apr 18th, 2017', 'PCIe 3.0 x16', '8 GB, GDDR5, 256 bit', '1257 MHz', '2000 MHz')\n",
      "('GeForce RTX 3080 Ti', 'GA102', 'May 31st, 2021', 'PCIe 4.0 x16', '12 GB, GDDR6X, 384 bit', '1365 MHz', '1188 MHz')\n",
      "('GeForce GTX 1660 SUPER', 'TU116', 'Oct 29th, 2019', 'PCIe 3.0 x16', '6 GB, GDDR6, 192 bit', '1530 MHz', '1750 MHz')\n",
      "('GeForce GTX 960', 'GM206', 'Jan 22nd, 2015', 'PCIe 3.0 x16', '2 GB, GDDR5, 128 bit', '1127 MHz', '1753 MHz')\n",
      "('Radeon RX 570', 'Polaris 20', 'Apr 18th, 2017', 'PCIe 3.0 x16', '4 GB, GDDR5, 256 bit', '1168 MHz', '1750 MHz')\n",
      "('Radeon RX 6400', 'Navi 24', 'Jan 19th, 2022', 'PCIe 4.0 x4', '4 GB, GDDR6, 64 bit', '1923 MHz', '2000 MHz')\n",
      "('Radeon RX 6500 XT', 'Navi 24', 'Jan 19th, 2022', 'PCIe 4.0 x4', '4 GB, GDDR6, 64 bit', '2310 MHz', '2248 MHz')\n",
      "('GeForce GTX 1080', 'GP104', 'May 27th, 2016', 'PCIe 3.0 x16', '8 GB, GDDR5X, 256 bit', '1607 MHz', '1251 MHz')\n",
      "('GeForce GTX 1660 Ti', 'TU116', 'Feb 22nd, 2019', 'PCIe 3.0 x16', '6 GB, GDDR6, 192 bit', '1500 MHz', '1500 MHz')\n",
      "('GeForce GTX 1630', 'TU117', '2022', 'PCIe 3.0 x16', '4 GB, GDDR5, 64 bit', '1740 MHz', '2001 MHz')\n",
      "('GeForce GTX 750 Ti', 'GM107', 'Feb 18th, 2014', 'PCIe 3.0 x16', '2 GB, GDDR5, 128 bit', '1020 MHz', '1350 MHz')\n",
      "('GeForce GT 1030', 'GP108', 'May 17th, 2017', 'PCIe 3.0 x4', '2 GB, GDDR5, 64 bit', '1228 MHz', '1502 MHz')\n",
      "('Radeon RX 6900 XT', 'Navi 21', 'Oct 28th, 2020', 'PCIe 4.0 x16', '16 GB, GDDR6, 256 bit', '1825 MHz', '2000 MHz')\n",
      "('GeForce GTX 1050', 'GP107', 'Oct 25th, 2016', 'PCIe 3.0 x16', '2 GB, GDDR5, 128 bit', '1354 MHz', '1752 MHz')\n",
      "('GeForce RTX 4090', 'AD102', '2022', 'PCIe 4.0 x16', '24 GB, GDDR6X, 384 bit', '2115 MHz', '1325 MHz')\n",
      "('GeForce RTX 2080 Ti', 'TU102', 'Sep 20th, 2018', 'PCIe 3.0 x16', '11 GB, GDDR6, 352 bit', '1350 MHz', '1750 MHz')\n",
      "('GeForce GTX 1660', 'TU116', 'Mar 14th, 2019', 'PCIe 3.0 x16', '6 GB, GDDR5, 192 bit', '1530 MHz', '2001 MHz')\n",
      "('GeForce GTX 950', 'GM206', 'Aug 20th, 2015', 'PCIe 3.0 x16', '2 GB, GDDR5, 128 bit', '1024 MHz', '1653 MHz')\n",
      "('Radeon RX 6650 XT', 'Navi 23', 'May 10th, 2022', 'PCIe 4.0 x8', '8 GB, GDDR6, 128 bit', '2055 MHz', '2190 MHz')\n",
      "('GeForce RTX 2060 SUPER', 'TU106', 'Jul 9th, 2019', 'PCIe 3.0 x16', '8 GB, GDDR6, 256 bit', '1470 MHz', '1750 MHz')\n",
      "('GeForce 210', 'GT218', 'Oct 12th, 2009', 'PCIe 2.0 x16', '512 MB, DDR3, 64 bit', '520 MHz', '400 MHz')\n",
      "('GeForce RTX 2070', 'TU106', 'Oct 17th, 2018', 'PCIe 3.0 x16', '8 GB, GDDR6, 256 bit', '1410 MHz', '1750 MHz')\n",
      "('GeForce RTX 4080', 'AD103', '2022', 'PCIe 4.0 x16', '16 GB, GDDR6X, 256 bit', '1925 MHz', '2250 MHz')\n",
      "('GeForce GT 730', 'GK208B', 'Jun 18th, 2014', 'PCIe 2.0 x8', '1024 MB, GDDR5, 64 bit', '902 MHz', '1253 MHz')\n",
      "('Radeon RX 6950 XT', 'Navi 21', 'May 10th, 2022', 'PCIe 4.0 x16', '16 GB, GDDR6, 256 bit', '1925 MHz', '2250 MHz')\n",
      "('GeForce GTX 550 Ti', 'GF116', 'Mar 15th, 2011', 'PCIe 2.0 x16', '1024 MB, GDDR5, 192 bit', '900 MHz', '1026 MHz')\n",
      "('GeForce RTX 2070 SUPER', 'TU104', 'Jul 9th, 2019', 'PCIe 3.0 x16', '8 GB, GDDR6, 256 bit', '1605 MHz', '1750 MHz')\n",
      "('Radeon RX 6800 XT', 'Navi 21', 'Oct 28th, 2020', 'PCIe 4.0 x16', '16 GB, GDDR6, 256 bit', '1825 MHz', '2000 MHz')\n",
      "('Radeon RX 6750 XT', 'Navi 22', 'Mar 3rd, 2022', 'PCIe 4.0 x16', '12 GB, GDDR6, 192 bit', '2150 MHz', '2250 MHz')\n",
      "('GeForce GTX 980 Ti', 'GM200', 'Jun 2nd, 2015', 'PCIe 3.0 x16', '6 GB, GDDR5, 384 bit', '1000 MHz', '1753 MHz')\n",
      "('GeForce GTX 1650 SUPER', 'TU116', 'Nov 22nd, 2019', 'PCIe 3.0 x16', '4 GB, GDDR6, 128 bit', '1530 MHz', '1500 MHz')\n",
      "('Radeon RX 550', 'Lexa', 'Apr 20th, 2017', 'PCIe 3.0 x8', '2 GB, GDDR5, 128 bit', '1100 MHz', '1750 MHz')\n"
     ]
    }
   ],
   "source": [
    "# Fetch all the records\n",
    "result = cursor.fetchall()\n",
    "for i in result:\n",
    "    print(i)"
   ]
  },
  {
   "cell_type": "markdown",
   "id": "6f60663d",
   "metadata": {},
   "source": [
    "# Using Pandas SQL Query Method"
   ]
  },
  {
   "cell_type": "code",
   "execution_count": 163,
   "id": "2df6b8c3",
   "metadata": {},
   "outputs": [],
   "source": [
    "import mysql.connector"
   ]
  },
  {
   "cell_type": "code",
   "execution_count": 164,
   "id": "389c2361",
   "metadata": {},
   "outputs": [],
   "source": [
    "connection = mysql.connector.connect(host=data['host'],\n",
    "                                         database=data['database'],\n",
    "                                         user=data['user'],\n",
    "                                         password=data['password'])"
   ]
  },
  {
   "cell_type": "markdown",
   "id": "a18195aa",
   "metadata": {},
   "source": [
    "## Step 6: Run Pandas SQL Query method"
   ]
  },
  {
   "cell_type": "code",
   "execution_count": 165,
   "id": "b781ea5e",
   "metadata": {},
   "outputs": [
    {
     "data": {
      "text/html": [
       "<div>\n",
       "<style scoped>\n",
       "    .dataframe tbody tr th:only-of-type {\n",
       "        vertical-align: middle;\n",
       "    }\n",
       "\n",
       "    .dataframe tbody tr th {\n",
       "        vertical-align: top;\n",
       "    }\n",
       "\n",
       "    .dataframe thead th {\n",
       "        text-align: right;\n",
       "    }\n",
       "</style>\n",
       "<table border=\"1\" class=\"dataframe\">\n",
       "  <thead>\n",
       "    <tr style=\"text-align: right;\">\n",
       "      <th></th>\n",
       "      <th>Product_Name</th>\n",
       "      <th>GPU_Chip</th>\n",
       "      <th>Released</th>\n",
       "      <th>Bus</th>\n",
       "      <th>Memory</th>\n",
       "      <th>GPU_clock</th>\n",
       "      <th>Memory_clock</th>\n",
       "    </tr>\n",
       "  </thead>\n",
       "  <tbody>\n",
       "    <tr>\n",
       "      <th>0</th>\n",
       "      <td>GeForce RTX 3060</td>\n",
       "      <td>GA106</td>\n",
       "      <td>Jan 12th, 2021</td>\n",
       "      <td>PCIe 4.0 x16</td>\n",
       "      <td>12 GB, GDDR6, 192 bit</td>\n",
       "      <td>1320 MHz</td>\n",
       "      <td>1875 MHz</td>\n",
       "    </tr>\n",
       "    <tr>\n",
       "      <th>1</th>\n",
       "      <td>GeForce RTX 3060 Ti</td>\n",
       "      <td>GA104</td>\n",
       "      <td>Dec 1st, 2020</td>\n",
       "      <td>PCIe 4.0 x16</td>\n",
       "      <td>8 GB, GDDR6, 256 bit</td>\n",
       "      <td>1410 MHz</td>\n",
       "      <td>1750 MHz</td>\n",
       "    </tr>\n",
       "    <tr>\n",
       "      <th>2</th>\n",
       "      <td>GeForce RTX 3070</td>\n",
       "      <td>GA104</td>\n",
       "      <td>Sep 1st, 2020</td>\n",
       "      <td>PCIe 4.0 x16</td>\n",
       "      <td>8 GB, GDDR6, 256 bit</td>\n",
       "      <td>1500 MHz</td>\n",
       "      <td>1750 MHz</td>\n",
       "    </tr>\n",
       "    <tr>\n",
       "      <th>3</th>\n",
       "      <td>GeForce RTX 3080</td>\n",
       "      <td>GA102</td>\n",
       "      <td>Sep 1st, 2020</td>\n",
       "      <td>PCIe 4.0 x16</td>\n",
       "      <td>10 GB, GDDR6X, 320 bit</td>\n",
       "      <td>1440 MHz</td>\n",
       "      <td>1188 MHz</td>\n",
       "    </tr>\n",
       "    <tr>\n",
       "      <th>4</th>\n",
       "      <td>Radeon RX 6600 XT</td>\n",
       "      <td>Navi 23</td>\n",
       "      <td>Jul 30th, 2021</td>\n",
       "      <td>PCIe 4.0 x8</td>\n",
       "      <td>8 GB, GDDR6, 128 bit</td>\n",
       "      <td>1968 MHz</td>\n",
       "      <td>2000 MHz</td>\n",
       "    </tr>\n",
       "    <tr>\n",
       "      <th>5</th>\n",
       "      <td>GeForce RTX 2060</td>\n",
       "      <td>TU106</td>\n",
       "      <td>Jan 7th, 2019</td>\n",
       "      <td>PCIe 3.0 x16</td>\n",
       "      <td>6 GB, GDDR6, 192 bit</td>\n",
       "      <td>1365 MHz</td>\n",
       "      <td>1750 MHz</td>\n",
       "    </tr>\n",
       "    <tr>\n",
       "      <th>6</th>\n",
       "      <td>Radeon RX 6600</td>\n",
       "      <td>Navi 23</td>\n",
       "      <td>Oct 13th, 2021</td>\n",
       "      <td>PCIe 4.0 x8</td>\n",
       "      <td>8 GB, GDDR6, 128 bit</td>\n",
       "      <td>1626 MHz</td>\n",
       "      <td>1750 MHz</td>\n",
       "    </tr>\n",
       "    <tr>\n",
       "      <th>7</th>\n",
       "      <td>GeForce RTX 3050 8 GB</td>\n",
       "      <td>GA106</td>\n",
       "      <td>Jan 4th, 2022</td>\n",
       "      <td>PCIe 4.0 x8</td>\n",
       "      <td>8 GB, GDDR6, 128 bit</td>\n",
       "      <td>1552 MHz</td>\n",
       "      <td>1750 MHz</td>\n",
       "    </tr>\n",
       "    <tr>\n",
       "      <th>8</th>\n",
       "      <td>GeForce RTX 3090 Ti</td>\n",
       "      <td>GA102</td>\n",
       "      <td>Jan 27th, 2022</td>\n",
       "      <td>PCIe 4.0 x16</td>\n",
       "      <td>24 GB, GDDR6X, 384 bit</td>\n",
       "      <td>1560 MHz</td>\n",
       "      <td>1313 MHz</td>\n",
       "    </tr>\n",
       "    <tr>\n",
       "      <th>9</th>\n",
       "      <td>GeForce RTX 3070 Ti</td>\n",
       "      <td>GA104</td>\n",
       "      <td>May 31st, 2021</td>\n",
       "      <td>PCIe 4.0 x16</td>\n",
       "      <td>8 GB, GDDR6X, 256 bit</td>\n",
       "      <td>1575 MHz</td>\n",
       "      <td>1188 MHz</td>\n",
       "    </tr>\n",
       "    <tr>\n",
       "      <th>10</th>\n",
       "      <td>Radeon RX 6700 XT</td>\n",
       "      <td>Navi 22</td>\n",
       "      <td>Mar 3rd, 2021</td>\n",
       "      <td>PCIe 4.0 x16</td>\n",
       "      <td>12 GB, GDDR6, 192 bit</td>\n",
       "      <td>2321 MHz</td>\n",
       "      <td>2000 MHz</td>\n",
       "    </tr>\n",
       "    <tr>\n",
       "      <th>11</th>\n",
       "      <td>GeForce GTX 1060 6 GB</td>\n",
       "      <td>GP106</td>\n",
       "      <td>Jul 19th, 2016</td>\n",
       "      <td>PCIe 3.0 x16</td>\n",
       "      <td>6 GB, GDDR5, 192 bit</td>\n",
       "      <td>1506 MHz</td>\n",
       "      <td>2002 MHz</td>\n",
       "    </tr>\n",
       "    <tr>\n",
       "      <th>12</th>\n",
       "      <td>GeForce GTX 1050 Ti</td>\n",
       "      <td>GP107</td>\n",
       "      <td>Oct 25th, 2016</td>\n",
       "      <td>PCIe 3.0 x16</td>\n",
       "      <td>4 GB, GDDR5, 128 bit</td>\n",
       "      <td>1291 MHz</td>\n",
       "      <td>1752 MHz</td>\n",
       "    </tr>\n",
       "    <tr>\n",
       "      <th>13</th>\n",
       "      <td>GeForce GTX 1650</td>\n",
       "      <td>TU117</td>\n",
       "      <td>Apr 23rd, 2019</td>\n",
       "      <td>PCIe 3.0 x16</td>\n",
       "      <td>4 GB, GDDR5, 128 bit</td>\n",
       "      <td>1485 MHz</td>\n",
       "      <td>2001 MHz</td>\n",
       "    </tr>\n",
       "    <tr>\n",
       "      <th>14</th>\n",
       "      <td>GeForce GTX 970</td>\n",
       "      <td>GM204</td>\n",
       "      <td>Sep 19th, 2014</td>\n",
       "      <td>PCIe 3.0 x16</td>\n",
       "      <td>4 GB, GDDR5, 256 bit</td>\n",
       "      <td>1050 MHz</td>\n",
       "      <td>1753 MHz</td>\n",
       "    </tr>\n",
       "    <tr>\n",
       "      <th>15</th>\n",
       "      <td>GeForce GTX 1080 Ti</td>\n",
       "      <td>GP102</td>\n",
       "      <td>Mar 10th, 2017</td>\n",
       "      <td>PCIe 3.0 x16</td>\n",
       "      <td>11 GB, GDDR5X, 352 bit</td>\n",
       "      <td>1481 MHz</td>\n",
       "      <td>1376 MHz</td>\n",
       "    </tr>\n",
       "    <tr>\n",
       "      <th>16</th>\n",
       "      <td>GeForce RTX 3090</td>\n",
       "      <td>GA102</td>\n",
       "      <td>Sep 1st, 2020</td>\n",
       "      <td>PCIe 4.0 x16</td>\n",
       "      <td>24 GB, GDDR6X, 384 bit</td>\n",
       "      <td>1395 MHz</td>\n",
       "      <td>1219 MHz</td>\n",
       "    </tr>\n",
       "    <tr>\n",
       "      <th>17</th>\n",
       "      <td>GeForce GTX 1070</td>\n",
       "      <td>GP104</td>\n",
       "      <td>Jun 10th, 2016</td>\n",
       "      <td>PCIe 3.0 x16</td>\n",
       "      <td>8 GB, GDDR5, 256 bit</td>\n",
       "      <td>1506 MHz</td>\n",
       "      <td>2002 MHz</td>\n",
       "    </tr>\n",
       "    <tr>\n",
       "      <th>18</th>\n",
       "      <td>Radeon RX 580</td>\n",
       "      <td>Polaris 20</td>\n",
       "      <td>Apr 18th, 2017</td>\n",
       "      <td>PCIe 3.0 x16</td>\n",
       "      <td>8 GB, GDDR5, 256 bit</td>\n",
       "      <td>1257 MHz</td>\n",
       "      <td>2000 MHz</td>\n",
       "    </tr>\n",
       "    <tr>\n",
       "      <th>19</th>\n",
       "      <td>GeForce RTX 3080 Ti</td>\n",
       "      <td>GA102</td>\n",
       "      <td>May 31st, 2021</td>\n",
       "      <td>PCIe 4.0 x16</td>\n",
       "      <td>12 GB, GDDR6X, 384 bit</td>\n",
       "      <td>1365 MHz</td>\n",
       "      <td>1188 MHz</td>\n",
       "    </tr>\n",
       "    <tr>\n",
       "      <th>20</th>\n",
       "      <td>GeForce GTX 1660 SUPER</td>\n",
       "      <td>TU116</td>\n",
       "      <td>Oct 29th, 2019</td>\n",
       "      <td>PCIe 3.0 x16</td>\n",
       "      <td>6 GB, GDDR6, 192 bit</td>\n",
       "      <td>1530 MHz</td>\n",
       "      <td>1750 MHz</td>\n",
       "    </tr>\n",
       "    <tr>\n",
       "      <th>21</th>\n",
       "      <td>GeForce GTX 960</td>\n",
       "      <td>GM206</td>\n",
       "      <td>Jan 22nd, 2015</td>\n",
       "      <td>PCIe 3.0 x16</td>\n",
       "      <td>2 GB, GDDR5, 128 bit</td>\n",
       "      <td>1127 MHz</td>\n",
       "      <td>1753 MHz</td>\n",
       "    </tr>\n",
       "    <tr>\n",
       "      <th>22</th>\n",
       "      <td>Radeon RX 570</td>\n",
       "      <td>Polaris 20</td>\n",
       "      <td>Apr 18th, 2017</td>\n",
       "      <td>PCIe 3.0 x16</td>\n",
       "      <td>4 GB, GDDR5, 256 bit</td>\n",
       "      <td>1168 MHz</td>\n",
       "      <td>1750 MHz</td>\n",
       "    </tr>\n",
       "    <tr>\n",
       "      <th>23</th>\n",
       "      <td>Radeon RX 6400</td>\n",
       "      <td>Navi 24</td>\n",
       "      <td>Jan 19th, 2022</td>\n",
       "      <td>PCIe 4.0 x4</td>\n",
       "      <td>4 GB, GDDR6, 64 bit</td>\n",
       "      <td>1923 MHz</td>\n",
       "      <td>2000 MHz</td>\n",
       "    </tr>\n",
       "    <tr>\n",
       "      <th>24</th>\n",
       "      <td>Radeon RX 6500 XT</td>\n",
       "      <td>Navi 24</td>\n",
       "      <td>Jan 19th, 2022</td>\n",
       "      <td>PCIe 4.0 x4</td>\n",
       "      <td>4 GB, GDDR6, 64 bit</td>\n",
       "      <td>2310 MHz</td>\n",
       "      <td>2248 MHz</td>\n",
       "    </tr>\n",
       "    <tr>\n",
       "      <th>25</th>\n",
       "      <td>GeForce GTX 1080</td>\n",
       "      <td>GP104</td>\n",
       "      <td>May 27th, 2016</td>\n",
       "      <td>PCIe 3.0 x16</td>\n",
       "      <td>8 GB, GDDR5X, 256 bit</td>\n",
       "      <td>1607 MHz</td>\n",
       "      <td>1251 MHz</td>\n",
       "    </tr>\n",
       "    <tr>\n",
       "      <th>26</th>\n",
       "      <td>GeForce GTX 1660 Ti</td>\n",
       "      <td>TU116</td>\n",
       "      <td>Feb 22nd, 2019</td>\n",
       "      <td>PCIe 3.0 x16</td>\n",
       "      <td>6 GB, GDDR6, 192 bit</td>\n",
       "      <td>1500 MHz</td>\n",
       "      <td>1500 MHz</td>\n",
       "    </tr>\n",
       "    <tr>\n",
       "      <th>27</th>\n",
       "      <td>GeForce GTX 1630</td>\n",
       "      <td>TU117</td>\n",
       "      <td>2022</td>\n",
       "      <td>PCIe 3.0 x16</td>\n",
       "      <td>4 GB, GDDR5, 64 bit</td>\n",
       "      <td>1740 MHz</td>\n",
       "      <td>2001 MHz</td>\n",
       "    </tr>\n",
       "    <tr>\n",
       "      <th>28</th>\n",
       "      <td>GeForce GTX 750 Ti</td>\n",
       "      <td>GM107</td>\n",
       "      <td>Feb 18th, 2014</td>\n",
       "      <td>PCIe 3.0 x16</td>\n",
       "      <td>2 GB, GDDR5, 128 bit</td>\n",
       "      <td>1020 MHz</td>\n",
       "      <td>1350 MHz</td>\n",
       "    </tr>\n",
       "    <tr>\n",
       "      <th>29</th>\n",
       "      <td>GeForce GT 1030</td>\n",
       "      <td>GP108</td>\n",
       "      <td>May 17th, 2017</td>\n",
       "      <td>PCIe 3.0 x4</td>\n",
       "      <td>2 GB, GDDR5, 64 bit</td>\n",
       "      <td>1228 MHz</td>\n",
       "      <td>1502 MHz</td>\n",
       "    </tr>\n",
       "    <tr>\n",
       "      <th>30</th>\n",
       "      <td>Radeon RX 6900 XT</td>\n",
       "      <td>Navi 21</td>\n",
       "      <td>Oct 28th, 2020</td>\n",
       "      <td>PCIe 4.0 x16</td>\n",
       "      <td>16 GB, GDDR6, 256 bit</td>\n",
       "      <td>1825 MHz</td>\n",
       "      <td>2000 MHz</td>\n",
       "    </tr>\n",
       "    <tr>\n",
       "      <th>31</th>\n",
       "      <td>GeForce GTX 1050</td>\n",
       "      <td>GP107</td>\n",
       "      <td>Oct 25th, 2016</td>\n",
       "      <td>PCIe 3.0 x16</td>\n",
       "      <td>2 GB, GDDR5, 128 bit</td>\n",
       "      <td>1354 MHz</td>\n",
       "      <td>1752 MHz</td>\n",
       "    </tr>\n",
       "    <tr>\n",
       "      <th>32</th>\n",
       "      <td>GeForce RTX 4090</td>\n",
       "      <td>AD102</td>\n",
       "      <td>2022</td>\n",
       "      <td>PCIe 4.0 x16</td>\n",
       "      <td>24 GB, GDDR6X, 384 bit</td>\n",
       "      <td>2115 MHz</td>\n",
       "      <td>1325 MHz</td>\n",
       "    </tr>\n",
       "    <tr>\n",
       "      <th>33</th>\n",
       "      <td>GeForce RTX 2080 Ti</td>\n",
       "      <td>TU102</td>\n",
       "      <td>Sep 20th, 2018</td>\n",
       "      <td>PCIe 3.0 x16</td>\n",
       "      <td>11 GB, GDDR6, 352 bit</td>\n",
       "      <td>1350 MHz</td>\n",
       "      <td>1750 MHz</td>\n",
       "    </tr>\n",
       "    <tr>\n",
       "      <th>34</th>\n",
       "      <td>GeForce GTX 1660</td>\n",
       "      <td>TU116</td>\n",
       "      <td>Mar 14th, 2019</td>\n",
       "      <td>PCIe 3.0 x16</td>\n",
       "      <td>6 GB, GDDR5, 192 bit</td>\n",
       "      <td>1530 MHz</td>\n",
       "      <td>2001 MHz</td>\n",
       "    </tr>\n",
       "    <tr>\n",
       "      <th>35</th>\n",
       "      <td>GeForce GTX 950</td>\n",
       "      <td>GM206</td>\n",
       "      <td>Aug 20th, 2015</td>\n",
       "      <td>PCIe 3.0 x16</td>\n",
       "      <td>2 GB, GDDR5, 128 bit</td>\n",
       "      <td>1024 MHz</td>\n",
       "      <td>1653 MHz</td>\n",
       "    </tr>\n",
       "    <tr>\n",
       "      <th>36</th>\n",
       "      <td>Radeon RX 6650 XT</td>\n",
       "      <td>Navi 23</td>\n",
       "      <td>May 10th, 2022</td>\n",
       "      <td>PCIe 4.0 x8</td>\n",
       "      <td>8 GB, GDDR6, 128 bit</td>\n",
       "      <td>2055 MHz</td>\n",
       "      <td>2190 MHz</td>\n",
       "    </tr>\n",
       "    <tr>\n",
       "      <th>37</th>\n",
       "      <td>GeForce RTX 2060 SUPER</td>\n",
       "      <td>TU106</td>\n",
       "      <td>Jul 9th, 2019</td>\n",
       "      <td>PCIe 3.0 x16</td>\n",
       "      <td>8 GB, GDDR6, 256 bit</td>\n",
       "      <td>1470 MHz</td>\n",
       "      <td>1750 MHz</td>\n",
       "    </tr>\n",
       "    <tr>\n",
       "      <th>38</th>\n",
       "      <td>GeForce 210</td>\n",
       "      <td>GT218</td>\n",
       "      <td>Oct 12th, 2009</td>\n",
       "      <td>PCIe 2.0 x16</td>\n",
       "      <td>512 MB, DDR3, 64 bit</td>\n",
       "      <td>520 MHz</td>\n",
       "      <td>400 MHz</td>\n",
       "    </tr>\n",
       "    <tr>\n",
       "      <th>39</th>\n",
       "      <td>GeForce RTX 2070</td>\n",
       "      <td>TU106</td>\n",
       "      <td>Oct 17th, 2018</td>\n",
       "      <td>PCIe 3.0 x16</td>\n",
       "      <td>8 GB, GDDR6, 256 bit</td>\n",
       "      <td>1410 MHz</td>\n",
       "      <td>1750 MHz</td>\n",
       "    </tr>\n",
       "    <tr>\n",
       "      <th>40</th>\n",
       "      <td>GeForce RTX 4080</td>\n",
       "      <td>AD103</td>\n",
       "      <td>2022</td>\n",
       "      <td>PCIe 4.0 x16</td>\n",
       "      <td>16 GB, GDDR6X, 256 bit</td>\n",
       "      <td>1925 MHz</td>\n",
       "      <td>2250 MHz</td>\n",
       "    </tr>\n",
       "    <tr>\n",
       "      <th>41</th>\n",
       "      <td>GeForce GT 730</td>\n",
       "      <td>GK208B</td>\n",
       "      <td>Jun 18th, 2014</td>\n",
       "      <td>PCIe 2.0 x8</td>\n",
       "      <td>1024 MB, GDDR5, 64 bit</td>\n",
       "      <td>902 MHz</td>\n",
       "      <td>1253 MHz</td>\n",
       "    </tr>\n",
       "    <tr>\n",
       "      <th>42</th>\n",
       "      <td>Radeon RX 6950 XT</td>\n",
       "      <td>Navi 21</td>\n",
       "      <td>May 10th, 2022</td>\n",
       "      <td>PCIe 4.0 x16</td>\n",
       "      <td>16 GB, GDDR6, 256 bit</td>\n",
       "      <td>1925 MHz</td>\n",
       "      <td>2250 MHz</td>\n",
       "    </tr>\n",
       "    <tr>\n",
       "      <th>43</th>\n",
       "      <td>GeForce GTX 550 Ti</td>\n",
       "      <td>GF116</td>\n",
       "      <td>Mar 15th, 2011</td>\n",
       "      <td>PCIe 2.0 x16</td>\n",
       "      <td>1024 MB, GDDR5, 192 bit</td>\n",
       "      <td>900 MHz</td>\n",
       "      <td>1026 MHz</td>\n",
       "    </tr>\n",
       "    <tr>\n",
       "      <th>44</th>\n",
       "      <td>GeForce RTX 2070 SUPER</td>\n",
       "      <td>TU104</td>\n",
       "      <td>Jul 9th, 2019</td>\n",
       "      <td>PCIe 3.0 x16</td>\n",
       "      <td>8 GB, GDDR6, 256 bit</td>\n",
       "      <td>1605 MHz</td>\n",
       "      <td>1750 MHz</td>\n",
       "    </tr>\n",
       "    <tr>\n",
       "      <th>45</th>\n",
       "      <td>Radeon RX 6800 XT</td>\n",
       "      <td>Navi 21</td>\n",
       "      <td>Oct 28th, 2020</td>\n",
       "      <td>PCIe 4.0 x16</td>\n",
       "      <td>16 GB, GDDR6, 256 bit</td>\n",
       "      <td>1825 MHz</td>\n",
       "      <td>2000 MHz</td>\n",
       "    </tr>\n",
       "    <tr>\n",
       "      <th>46</th>\n",
       "      <td>Radeon RX 6750 XT</td>\n",
       "      <td>Navi 22</td>\n",
       "      <td>Mar 3rd, 2022</td>\n",
       "      <td>PCIe 4.0 x16</td>\n",
       "      <td>12 GB, GDDR6, 192 bit</td>\n",
       "      <td>2150 MHz</td>\n",
       "      <td>2250 MHz</td>\n",
       "    </tr>\n",
       "    <tr>\n",
       "      <th>47</th>\n",
       "      <td>GeForce GTX 980 Ti</td>\n",
       "      <td>GM200</td>\n",
       "      <td>Jun 2nd, 2015</td>\n",
       "      <td>PCIe 3.0 x16</td>\n",
       "      <td>6 GB, GDDR5, 384 bit</td>\n",
       "      <td>1000 MHz</td>\n",
       "      <td>1753 MHz</td>\n",
       "    </tr>\n",
       "    <tr>\n",
       "      <th>48</th>\n",
       "      <td>GeForce GTX 1650 SUPER</td>\n",
       "      <td>TU116</td>\n",
       "      <td>Nov 22nd, 2019</td>\n",
       "      <td>PCIe 3.0 x16</td>\n",
       "      <td>4 GB, GDDR6, 128 bit</td>\n",
       "      <td>1530 MHz</td>\n",
       "      <td>1500 MHz</td>\n",
       "    </tr>\n",
       "    <tr>\n",
       "      <th>49</th>\n",
       "      <td>Radeon RX 550</td>\n",
       "      <td>Lexa</td>\n",
       "      <td>Apr 20th, 2017</td>\n",
       "      <td>PCIe 3.0 x8</td>\n",
       "      <td>2 GB, GDDR5, 128 bit</td>\n",
       "      <td>1100 MHz</td>\n",
       "      <td>1750 MHz</td>\n",
       "    </tr>\n",
       "  </tbody>\n",
       "</table>\n",
       "</div>"
      ],
      "text/plain": [
       "              Product_Name    GPU_Chip        Released           Bus  \\\n",
       "0         GeForce RTX 3060       GA106  Jan 12th, 2021  PCIe 4.0 x16   \n",
       "1      GeForce RTX 3060 Ti       GA104   Dec 1st, 2020  PCIe 4.0 x16   \n",
       "2         GeForce RTX 3070       GA104   Sep 1st, 2020  PCIe 4.0 x16   \n",
       "3         GeForce RTX 3080       GA102   Sep 1st, 2020  PCIe 4.0 x16   \n",
       "4        Radeon RX 6600 XT     Navi 23  Jul 30th, 2021   PCIe 4.0 x8   \n",
       "5         GeForce RTX 2060       TU106   Jan 7th, 2019  PCIe 3.0 x16   \n",
       "6           Radeon RX 6600     Navi 23  Oct 13th, 2021   PCIe 4.0 x8   \n",
       "7    GeForce RTX 3050 8 GB       GA106   Jan 4th, 2022   PCIe 4.0 x8   \n",
       "8      GeForce RTX 3090 Ti       GA102  Jan 27th, 2022  PCIe 4.0 x16   \n",
       "9      GeForce RTX 3070 Ti       GA104  May 31st, 2021  PCIe 4.0 x16   \n",
       "10       Radeon RX 6700 XT     Navi 22   Mar 3rd, 2021  PCIe 4.0 x16   \n",
       "11   GeForce GTX 1060 6 GB       GP106  Jul 19th, 2016  PCIe 3.0 x16   \n",
       "12     GeForce GTX 1050 Ti       GP107  Oct 25th, 2016  PCIe 3.0 x16   \n",
       "13        GeForce GTX 1650       TU117  Apr 23rd, 2019  PCIe 3.0 x16   \n",
       "14         GeForce GTX 970       GM204  Sep 19th, 2014  PCIe 3.0 x16   \n",
       "15     GeForce GTX 1080 Ti       GP102  Mar 10th, 2017  PCIe 3.0 x16   \n",
       "16        GeForce RTX 3090       GA102   Sep 1st, 2020  PCIe 4.0 x16   \n",
       "17        GeForce GTX 1070       GP104  Jun 10th, 2016  PCIe 3.0 x16   \n",
       "18           Radeon RX 580  Polaris 20  Apr 18th, 2017  PCIe 3.0 x16   \n",
       "19     GeForce RTX 3080 Ti       GA102  May 31st, 2021  PCIe 4.0 x16   \n",
       "20  GeForce GTX 1660 SUPER       TU116  Oct 29th, 2019  PCIe 3.0 x16   \n",
       "21         GeForce GTX 960       GM206  Jan 22nd, 2015  PCIe 3.0 x16   \n",
       "22           Radeon RX 570  Polaris 20  Apr 18th, 2017  PCIe 3.0 x16   \n",
       "23          Radeon RX 6400     Navi 24  Jan 19th, 2022   PCIe 4.0 x4   \n",
       "24       Radeon RX 6500 XT     Navi 24  Jan 19th, 2022   PCIe 4.0 x4   \n",
       "25        GeForce GTX 1080       GP104  May 27th, 2016  PCIe 3.0 x16   \n",
       "26     GeForce GTX 1660 Ti       TU116  Feb 22nd, 2019  PCIe 3.0 x16   \n",
       "27        GeForce GTX 1630       TU117            2022  PCIe 3.0 x16   \n",
       "28      GeForce GTX 750 Ti       GM107  Feb 18th, 2014  PCIe 3.0 x16   \n",
       "29         GeForce GT 1030       GP108  May 17th, 2017   PCIe 3.0 x4   \n",
       "30       Radeon RX 6900 XT     Navi 21  Oct 28th, 2020  PCIe 4.0 x16   \n",
       "31        GeForce GTX 1050       GP107  Oct 25th, 2016  PCIe 3.0 x16   \n",
       "32        GeForce RTX 4090       AD102            2022  PCIe 4.0 x16   \n",
       "33     GeForce RTX 2080 Ti       TU102  Sep 20th, 2018  PCIe 3.0 x16   \n",
       "34        GeForce GTX 1660       TU116  Mar 14th, 2019  PCIe 3.0 x16   \n",
       "35         GeForce GTX 950       GM206  Aug 20th, 2015  PCIe 3.0 x16   \n",
       "36       Radeon RX 6650 XT     Navi 23  May 10th, 2022   PCIe 4.0 x8   \n",
       "37  GeForce RTX 2060 SUPER       TU106   Jul 9th, 2019  PCIe 3.0 x16   \n",
       "38             GeForce 210       GT218  Oct 12th, 2009  PCIe 2.0 x16   \n",
       "39        GeForce RTX 2070       TU106  Oct 17th, 2018  PCIe 3.0 x16   \n",
       "40        GeForce RTX 4080       AD103            2022  PCIe 4.0 x16   \n",
       "41          GeForce GT 730      GK208B  Jun 18th, 2014   PCIe 2.0 x8   \n",
       "42       Radeon RX 6950 XT     Navi 21  May 10th, 2022  PCIe 4.0 x16   \n",
       "43      GeForce GTX 550 Ti       GF116  Mar 15th, 2011  PCIe 2.0 x16   \n",
       "44  GeForce RTX 2070 SUPER       TU104   Jul 9th, 2019  PCIe 3.0 x16   \n",
       "45       Radeon RX 6800 XT     Navi 21  Oct 28th, 2020  PCIe 4.0 x16   \n",
       "46       Radeon RX 6750 XT     Navi 22   Mar 3rd, 2022  PCIe 4.0 x16   \n",
       "47      GeForce GTX 980 Ti       GM200   Jun 2nd, 2015  PCIe 3.0 x16   \n",
       "48  GeForce GTX 1650 SUPER       TU116  Nov 22nd, 2019  PCIe 3.0 x16   \n",
       "49           Radeon RX 550        Lexa  Apr 20th, 2017   PCIe 3.0 x8   \n",
       "\n",
       "                     Memory GPU_clock Memory_clock  \n",
       "0     12 GB, GDDR6, 192 bit  1320 MHz     1875 MHz  \n",
       "1      8 GB, GDDR6, 256 bit  1410 MHz     1750 MHz  \n",
       "2      8 GB, GDDR6, 256 bit  1500 MHz     1750 MHz  \n",
       "3    10 GB, GDDR6X, 320 bit  1440 MHz     1188 MHz  \n",
       "4      8 GB, GDDR6, 128 bit  1968 MHz     2000 MHz  \n",
       "5      6 GB, GDDR6, 192 bit  1365 MHz     1750 MHz  \n",
       "6      8 GB, GDDR6, 128 bit  1626 MHz     1750 MHz  \n",
       "7      8 GB, GDDR6, 128 bit  1552 MHz     1750 MHz  \n",
       "8    24 GB, GDDR6X, 384 bit  1560 MHz     1313 MHz  \n",
       "9     8 GB, GDDR6X, 256 bit  1575 MHz     1188 MHz  \n",
       "10    12 GB, GDDR6, 192 bit  2321 MHz     2000 MHz  \n",
       "11     6 GB, GDDR5, 192 bit  1506 MHz     2002 MHz  \n",
       "12     4 GB, GDDR5, 128 bit  1291 MHz     1752 MHz  \n",
       "13     4 GB, GDDR5, 128 bit  1485 MHz     2001 MHz  \n",
       "14     4 GB, GDDR5, 256 bit  1050 MHz     1753 MHz  \n",
       "15   11 GB, GDDR5X, 352 bit  1481 MHz     1376 MHz  \n",
       "16   24 GB, GDDR6X, 384 bit  1395 MHz     1219 MHz  \n",
       "17     8 GB, GDDR5, 256 bit  1506 MHz     2002 MHz  \n",
       "18     8 GB, GDDR5, 256 bit  1257 MHz     2000 MHz  \n",
       "19   12 GB, GDDR6X, 384 bit  1365 MHz     1188 MHz  \n",
       "20     6 GB, GDDR6, 192 bit  1530 MHz     1750 MHz  \n",
       "21     2 GB, GDDR5, 128 bit  1127 MHz     1753 MHz  \n",
       "22     4 GB, GDDR5, 256 bit  1168 MHz     1750 MHz  \n",
       "23      4 GB, GDDR6, 64 bit  1923 MHz     2000 MHz  \n",
       "24      4 GB, GDDR6, 64 bit  2310 MHz     2248 MHz  \n",
       "25    8 GB, GDDR5X, 256 bit  1607 MHz     1251 MHz  \n",
       "26     6 GB, GDDR6, 192 bit  1500 MHz     1500 MHz  \n",
       "27      4 GB, GDDR5, 64 bit  1740 MHz     2001 MHz  \n",
       "28     2 GB, GDDR5, 128 bit  1020 MHz     1350 MHz  \n",
       "29      2 GB, GDDR5, 64 bit  1228 MHz     1502 MHz  \n",
       "30    16 GB, GDDR6, 256 bit  1825 MHz     2000 MHz  \n",
       "31     2 GB, GDDR5, 128 bit  1354 MHz     1752 MHz  \n",
       "32   24 GB, GDDR6X, 384 bit  2115 MHz     1325 MHz  \n",
       "33    11 GB, GDDR6, 352 bit  1350 MHz     1750 MHz  \n",
       "34     6 GB, GDDR5, 192 bit  1530 MHz     2001 MHz  \n",
       "35     2 GB, GDDR5, 128 bit  1024 MHz     1653 MHz  \n",
       "36     8 GB, GDDR6, 128 bit  2055 MHz     2190 MHz  \n",
       "37     8 GB, GDDR6, 256 bit  1470 MHz     1750 MHz  \n",
       "38     512 MB, DDR3, 64 bit   520 MHz      400 MHz  \n",
       "39     8 GB, GDDR6, 256 bit  1410 MHz     1750 MHz  \n",
       "40   16 GB, GDDR6X, 256 bit  1925 MHz     2250 MHz  \n",
       "41   1024 MB, GDDR5, 64 bit   902 MHz     1253 MHz  \n",
       "42    16 GB, GDDR6, 256 bit  1925 MHz     2250 MHz  \n",
       "43  1024 MB, GDDR5, 192 bit   900 MHz     1026 MHz  \n",
       "44     8 GB, GDDR6, 256 bit  1605 MHz     1750 MHz  \n",
       "45    16 GB, GDDR6, 256 bit  1825 MHz     2000 MHz  \n",
       "46    12 GB, GDDR6, 192 bit  2150 MHz     2250 MHz  \n",
       "47     6 GB, GDDR5, 384 bit  1000 MHz     1753 MHz  \n",
       "48     4 GB, GDDR6, 128 bit  1530 MHz     1500 MHz  \n",
       "49     2 GB, GDDR5, 128 bit  1100 MHz     1750 MHz  "
      ]
     },
     "execution_count": 165,
     "metadata": {},
     "output_type": "execute_result"
    }
   ],
   "source": [
    "df_remote = pd.read_sql_query(sql, con = connection)\n",
    "df_remote"
   ]
  },
  {
   "cell_type": "code",
   "execution_count": 166,
   "id": "48cefb54",
   "metadata": {},
   "outputs": [],
   "source": [
    "cursor.close()\n",
    "connection.close()"
   ]
  },
  {
   "cell_type": "markdown",
   "id": "5856225c",
   "metadata": {},
   "source": [
    "## Second method with sqlalchemy "
   ]
  },
  {
   "cell_type": "code",
   "execution_count": null,
   "id": "27a1e0aa",
   "metadata": {},
   "outputs": [],
   "source": [
    "df=pd.read_csv('gpu.csv')  "
   ]
  },
  {
   "cell_type": "code",
   "execution_count": 187,
   "id": "1b4022c0",
   "metadata": {},
   "outputs": [],
   "source": [
    "import pandas as pd\n",
    "from sqlalchemy import create_engine\n"
   ]
  },
  {
   "cell_type": "code",
   "execution_count": 191,
   "id": "6feb6ffc",
   "metadata": {},
   "outputs": [],
   "source": [
    "infile = 'gpu.csv'\n",
    "db = data['database']\n",
    "db_tbl_name = 'gpu_data2'"
   ]
  },
  {
   "cell_type": "code",
   "execution_count": 192,
   "id": "5991a620",
   "metadata": {},
   "outputs": [],
   "source": []
  },
  {
   "cell_type": "code",
   "execution_count": 210,
   "id": "5be8f403",
   "metadata": {},
   "outputs": [],
   "source": [
    "'''\n",
    "Load a csv file into a dataframe; if csv does not have headers, use the headers arg to create a list of headers; rename unnamed columns to conform to mysql column requirements\n",
    "'''\n",
    "def csv_to_df(infile, headers = []):\n",
    "    if len(headers) == 0:\n",
    "        df = pd.read_csv(infile)\n",
    "   \n",
    "    else:\n",
    "        df = pd.read_csv(infile, header = None)\n",
    "        df.columns = headers\n",
    " \n",
    "    for r in range(10):\n",
    "        try:\n",
    "            df.rename( columns={'Unnamed: {0}'.format(r):'Unnamed{0}'.format(r)},    inplace=True )\n",
    "            \n",
    "        except:\n",
    "            pass\n",
    "    df.columns = df.columns.str.replace(' ', '_')\n",
    "    return df\n"
   ]
  },
  {
   "cell_type": "code",
   "execution_count": 198,
   "id": "e1b2e4f9",
   "metadata": {},
   "outputs": [],
   "source": [
    "'''\n",
    "Create a mapping of df dtypes to mysql data types local\n",
    "'''\n",
    "def dtype_mapping_local():\n",
    "    return {'object' : 'TEXT',\n",
    "        'int64' : 'INT',\n",
    "        'float64' : 'FLOAT',\n",
    "        'datetime64' : 'DATETIME',\n",
    "        'bool' : 'TINYINT',\n",
    "        'category' : 'TEXT',\n",
    "        'timedelta[ns]' : 'TEXT'}"
   ]
  },
  {
   "cell_type": "code",
   "execution_count": 199,
   "id": "8019e92c",
   "metadata": {},
   "outputs": [],
   "source": [
    "'''\n",
    "Create a mapping of df dtypes to mysql data types remote (not perfect, but close enough)\n",
    "'''\n",
    "def dtype_mapping():\n",
    "    return {'object' : 'VARCHAR(255)',\n",
    "        'int64' : 'INT',\n",
    "        'float64' : 'FLOAT',\n",
    "        'datetime64' : 'DATETIME',\n",
    "        'bool' : 'TINYINT',\n",
    "        'category' : 'VARCHAR(255)',\n",
    "        'timedelta[ns]' : 'VARCHAR(255)'}"
   ]
  },
  {
   "cell_type": "code",
   "execution_count": 200,
   "id": "65a46193",
   "metadata": {},
   "outputs": [],
   "source": [
    "'''\n",
    "Create a sqlalchemy engine local\n",
    "'''\n",
    "def mysql_engine_local(user = 'root', password = 'abc', host = '127.0.0.1', port = '3306', database = 'a001_db'):\n",
    "    engine = create_engine(\"mysql://{0}:{1}@{2}:{3}/{4}?charset=utf8\".format(user, password, host, port, database))\n",
    "    return engine"
   ]
  },
  {
   "cell_type": "code",
   "execution_count": 201,
   "id": "50c4e7e4",
   "metadata": {},
   "outputs": [],
   "source": [
    "'''\n",
    "Create a sqlalchemy engine remote\n",
    "'''\n",
    "def mysql_engine_remote(user = data['user'], \n",
    "                        password = data['password'], \n",
    "                        host = data['host'], \n",
    "                        port = '3306', \n",
    "                        database = data['database']):\n",
    "    engine = create_engine(\"mysql://{0}:{1}@{2}:{3}/{4}?charset=utf8\".format(user, password, host, port, database))\n",
    "    return engine"
   ]
  },
  {
   "cell_type": "code",
   "execution_count": 203,
   "id": "095017a8",
   "metadata": {},
   "outputs": [],
   "source": [
    "'''\n",
    "Create a mysql connection from sqlalchemy engine\n",
    "'''\n",
    "def mysql_conn(engine):\n",
    "    conn = engine.raw_connection()\n",
    "    return conn"
   ]
  },
  {
   "cell_type": "code",
   "execution_count": 204,
   "id": "1d32761e",
   "metadata": {},
   "outputs": [],
   "source": [
    "'''\n",
    "Create sql input for table names and types\n",
    "'''\n",
    "def gen_tbl_cols_sql(df):\n",
    "    dmap = dtype_mapping()\n",
    "    sql = \"pi_db_uid INT AUTO_INCREMENT PRIMARY KEY\"\n",
    "    df1 = df.rename(columns = {\"\" : \"nocolname\"})\n",
    "    hdrs = df1.dtypes.index\n",
    "    hdrs_list = [(hdr, str(df1[hdr].dtype)) for hdr in hdrs]\n",
    "    for hl in hdrs_list:\n",
    "        sql += \" ,{0} {1}\".format(hl[0], dmap[hl[1]])\n",
    "    return sql"
   ]
  },
  {
   "cell_type": "code",
   "execution_count": 205,
   "id": "ddc03a7a",
   "metadata": {},
   "outputs": [],
   "source": [
    "'''\n",
    "Create a mysql table from a df\n",
    "'''\n",
    "def create_mysql_tbl_schema(df, conn, db, tbl_name):\n",
    "    tbl_cols_sql = gen_tbl_cols_sql(df)\n",
    "    sql = \"USE {0}; CREATE TABLE {1} ({2})\".format(db, tbl_name, tbl_cols_sql)\n",
    "    cur = conn.cursor()\n",
    "    cur.execute(sql)\n",
    "    cur.close()\n",
    "    conn.commit()"
   ]
  },
  {
   "cell_type": "code",
   "execution_count": 206,
   "id": "21ef34b8",
   "metadata": {},
   "outputs": [],
   "source": [
    "'''\n",
    "Write df data to newly create mysql table\n",
    "'''\n",
    "def df_to_mysql(df, engine, tbl_name):\n",
    "    df.to_sql(tbl_name, engine, if_exists='replace')"
   ]
  },
  {
   "cell_type": "code",
   "execution_count": 211,
   "id": "261bbf8d",
   "metadata": {},
   "outputs": [
    {
     "data": {
      "text/html": [
       "<div>\n",
       "<style scoped>\n",
       "    .dataframe tbody tr th:only-of-type {\n",
       "        vertical-align: middle;\n",
       "    }\n",
       "\n",
       "    .dataframe tbody tr th {\n",
       "        vertical-align: top;\n",
       "    }\n",
       "\n",
       "    .dataframe thead th {\n",
       "        text-align: right;\n",
       "    }\n",
       "</style>\n",
       "<table border=\"1\" class=\"dataframe\">\n",
       "  <thead>\n",
       "    <tr style=\"text-align: right;\">\n",
       "      <th></th>\n",
       "      <th>Product_Name</th>\n",
       "      <th>GPU_Chip</th>\n",
       "      <th>Released</th>\n",
       "      <th>Bus</th>\n",
       "      <th>Memory</th>\n",
       "      <th>GPU_clock</th>\n",
       "      <th>Memory_clock</th>\n",
       "    </tr>\n",
       "  </thead>\n",
       "  <tbody>\n",
       "    <tr>\n",
       "      <th>0</th>\n",
       "      <td>GeForce RTX 3060</td>\n",
       "      <td>GA106</td>\n",
       "      <td>Jan 12th, 2021</td>\n",
       "      <td>PCIe 4.0 x16</td>\n",
       "      <td>12 GB, GDDR6, 192 bit</td>\n",
       "      <td>1320 MHz</td>\n",
       "      <td>1875 MHz</td>\n",
       "    </tr>\n",
       "    <tr>\n",
       "      <th>1</th>\n",
       "      <td>GeForce RTX 3060 Ti</td>\n",
       "      <td>GA104</td>\n",
       "      <td>Dec 1st, 2020</td>\n",
       "      <td>PCIe 4.0 x16</td>\n",
       "      <td>8 GB, GDDR6, 256 bit</td>\n",
       "      <td>1410 MHz</td>\n",
       "      <td>1750 MHz</td>\n",
       "    </tr>\n",
       "    <tr>\n",
       "      <th>2</th>\n",
       "      <td>GeForce RTX 3070</td>\n",
       "      <td>GA104</td>\n",
       "      <td>Sep 1st, 2020</td>\n",
       "      <td>PCIe 4.0 x16</td>\n",
       "      <td>8 GB, GDDR6, 256 bit</td>\n",
       "      <td>1500 MHz</td>\n",
       "      <td>1750 MHz</td>\n",
       "    </tr>\n",
       "    <tr>\n",
       "      <th>3</th>\n",
       "      <td>GeForce RTX 3080</td>\n",
       "      <td>GA102</td>\n",
       "      <td>Sep 1st, 2020</td>\n",
       "      <td>PCIe 4.0 x16</td>\n",
       "      <td>10 GB, GDDR6X, 320 bit</td>\n",
       "      <td>1440 MHz</td>\n",
       "      <td>1188 MHz</td>\n",
       "    </tr>\n",
       "    <tr>\n",
       "      <th>4</th>\n",
       "      <td>Radeon RX 6600 XT</td>\n",
       "      <td>Navi 23</td>\n",
       "      <td>Jul 30th, 2021</td>\n",
       "      <td>PCIe 4.0 x8</td>\n",
       "      <td>8 GB, GDDR6, 128 bit</td>\n",
       "      <td>1968 MHz</td>\n",
       "      <td>2000 MHz</td>\n",
       "    </tr>\n",
       "  </tbody>\n",
       "</table>\n",
       "</div>"
      ],
      "text/plain": [
       "          Product_Name GPU_Chip        Released           Bus  \\\n",
       "0     GeForce RTX 3060    GA106  Jan 12th, 2021  PCIe 4.0 x16   \n",
       "1  GeForce RTX 3060 Ti    GA104   Dec 1st, 2020  PCIe 4.0 x16   \n",
       "2     GeForce RTX 3070    GA104   Sep 1st, 2020  PCIe 4.0 x16   \n",
       "3     GeForce RTX 3080    GA102   Sep 1st, 2020  PCIe 4.0 x16   \n",
       "4    Radeon RX 6600 XT  Navi 23  Jul 30th, 2021   PCIe 4.0 x8   \n",
       "\n",
       "                   Memory GPU_clock Memory_clock  \n",
       "0   12 GB, GDDR6, 192 bit  1320 MHz     1875 MHz  \n",
       "1    8 GB, GDDR6, 256 bit  1410 MHz     1750 MHz  \n",
       "2    8 GB, GDDR6, 256 bit  1500 MHz     1750 MHz  \n",
       "3  10 GB, GDDR6X, 320 bit  1440 MHz     1188 MHz  \n",
       "4    8 GB, GDDR6, 128 bit  1968 MHz     2000 MHz  "
      ]
     },
     "execution_count": 211,
     "metadata": {},
     "output_type": "execute_result"
    }
   ],
   "source": [
    "df = csv_to_df(infile)\n",
    "df.head()"
   ]
  },
  {
   "cell_type": "code",
   "execution_count": 212,
   "id": "588f7e65",
   "metadata": {},
   "outputs": [],
   "source": [
    "create_mysql_tbl_schema(df, mysql_conn(mysql_engine_remote()), db, db_tbl_name)"
   ]
  },
  {
   "cell_type": "code",
   "execution_count": 213,
   "id": "79608d6c",
   "metadata": {},
   "outputs": [],
   "source": [
    "df_to_mysql(df, mysql_engine_remote(), db_tbl_name)"
   ]
  },
  {
   "cell_type": "code",
   "execution_count": 220,
   "id": "236f48bd",
   "metadata": {},
   "outputs": [],
   "source": [
    "connection = mysql.connector.connect(    host=data['host'],\n",
    "                                         database=data['database'],\n",
    "                                         user=data['user'],\n",
    "                                         password=data['password'])"
   ]
  },
  {
   "cell_type": "code",
   "execution_count": 221,
   "id": "475420ed",
   "metadata": {},
   "outputs": [],
   "source": [
    "# Execute query\n",
    "sql = \"SELECT * FROM \"+data['database']+\".gpu_data2\"\n"
   ]
  },
  {
   "cell_type": "code",
   "execution_count": 222,
   "id": "536c5856",
   "metadata": {},
   "outputs": [
    {
     "data": {
      "text/html": [
       "<div>\n",
       "<style scoped>\n",
       "    .dataframe tbody tr th:only-of-type {\n",
       "        vertical-align: middle;\n",
       "    }\n",
       "\n",
       "    .dataframe tbody tr th {\n",
       "        vertical-align: top;\n",
       "    }\n",
       "\n",
       "    .dataframe thead th {\n",
       "        text-align: right;\n",
       "    }\n",
       "</style>\n",
       "<table border=\"1\" class=\"dataframe\">\n",
       "  <thead>\n",
       "    <tr style=\"text-align: right;\">\n",
       "      <th></th>\n",
       "      <th>index</th>\n",
       "      <th>Product_Name</th>\n",
       "      <th>GPU_Chip</th>\n",
       "      <th>Released</th>\n",
       "      <th>Bus</th>\n",
       "      <th>Memory</th>\n",
       "      <th>GPU_clock</th>\n",
       "      <th>Memory_clock</th>\n",
       "    </tr>\n",
       "  </thead>\n",
       "  <tbody>\n",
       "    <tr>\n",
       "      <th>0</th>\n",
       "      <td>0</td>\n",
       "      <td>GeForce RTX 3060</td>\n",
       "      <td>GA106</td>\n",
       "      <td>Jan 12th, 2021</td>\n",
       "      <td>PCIe 4.0 x16</td>\n",
       "      <td>12 GB, GDDR6, 192 bit</td>\n",
       "      <td>1320 MHz</td>\n",
       "      <td>1875 MHz</td>\n",
       "    </tr>\n",
       "    <tr>\n",
       "      <th>1</th>\n",
       "      <td>1</td>\n",
       "      <td>GeForce RTX 3060 Ti</td>\n",
       "      <td>GA104</td>\n",
       "      <td>Dec 1st, 2020</td>\n",
       "      <td>PCIe 4.0 x16</td>\n",
       "      <td>8 GB, GDDR6, 256 bit</td>\n",
       "      <td>1410 MHz</td>\n",
       "      <td>1750 MHz</td>\n",
       "    </tr>\n",
       "    <tr>\n",
       "      <th>2</th>\n",
       "      <td>2</td>\n",
       "      <td>GeForce RTX 3070</td>\n",
       "      <td>GA104</td>\n",
       "      <td>Sep 1st, 2020</td>\n",
       "      <td>PCIe 4.0 x16</td>\n",
       "      <td>8 GB, GDDR6, 256 bit</td>\n",
       "      <td>1500 MHz</td>\n",
       "      <td>1750 MHz</td>\n",
       "    </tr>\n",
       "    <tr>\n",
       "      <th>3</th>\n",
       "      <td>3</td>\n",
       "      <td>GeForce RTX 3080</td>\n",
       "      <td>GA102</td>\n",
       "      <td>Sep 1st, 2020</td>\n",
       "      <td>PCIe 4.0 x16</td>\n",
       "      <td>10 GB, GDDR6X, 320 bit</td>\n",
       "      <td>1440 MHz</td>\n",
       "      <td>1188 MHz</td>\n",
       "    </tr>\n",
       "    <tr>\n",
       "      <th>4</th>\n",
       "      <td>4</td>\n",
       "      <td>Radeon RX 6600 XT</td>\n",
       "      <td>Navi 23</td>\n",
       "      <td>Jul 30th, 2021</td>\n",
       "      <td>PCIe 4.0 x8</td>\n",
       "      <td>8 GB, GDDR6, 128 bit</td>\n",
       "      <td>1968 MHz</td>\n",
       "      <td>2000 MHz</td>\n",
       "    </tr>\n",
       "    <tr>\n",
       "      <th>5</th>\n",
       "      <td>5</td>\n",
       "      <td>GeForce RTX 2060</td>\n",
       "      <td>TU106</td>\n",
       "      <td>Jan 7th, 2019</td>\n",
       "      <td>PCIe 3.0 x16</td>\n",
       "      <td>6 GB, GDDR6, 192 bit</td>\n",
       "      <td>1365 MHz</td>\n",
       "      <td>1750 MHz</td>\n",
       "    </tr>\n",
       "    <tr>\n",
       "      <th>6</th>\n",
       "      <td>6</td>\n",
       "      <td>Radeon RX 6600</td>\n",
       "      <td>Navi 23</td>\n",
       "      <td>Oct 13th, 2021</td>\n",
       "      <td>PCIe 4.0 x8</td>\n",
       "      <td>8 GB, GDDR6, 128 bit</td>\n",
       "      <td>1626 MHz</td>\n",
       "      <td>1750 MHz</td>\n",
       "    </tr>\n",
       "    <tr>\n",
       "      <th>7</th>\n",
       "      <td>7</td>\n",
       "      <td>GeForce RTX 3050 8 GB</td>\n",
       "      <td>GA106</td>\n",
       "      <td>Jan 4th, 2022</td>\n",
       "      <td>PCIe 4.0 x8</td>\n",
       "      <td>8 GB, GDDR6, 128 bit</td>\n",
       "      <td>1552 MHz</td>\n",
       "      <td>1750 MHz</td>\n",
       "    </tr>\n",
       "    <tr>\n",
       "      <th>8</th>\n",
       "      <td>8</td>\n",
       "      <td>GeForce RTX 3090 Ti</td>\n",
       "      <td>GA102</td>\n",
       "      <td>Jan 27th, 2022</td>\n",
       "      <td>PCIe 4.0 x16</td>\n",
       "      <td>24 GB, GDDR6X, 384 bit</td>\n",
       "      <td>1560 MHz</td>\n",
       "      <td>1313 MHz</td>\n",
       "    </tr>\n",
       "    <tr>\n",
       "      <th>9</th>\n",
       "      <td>9</td>\n",
       "      <td>GeForce RTX 3070 Ti</td>\n",
       "      <td>GA104</td>\n",
       "      <td>May 31st, 2021</td>\n",
       "      <td>PCIe 4.0 x16</td>\n",
       "      <td>8 GB, GDDR6X, 256 bit</td>\n",
       "      <td>1575 MHz</td>\n",
       "      <td>1188 MHz</td>\n",
       "    </tr>\n",
       "  </tbody>\n",
       "</table>\n",
       "</div>"
      ],
      "text/plain": [
       "   index           Product_Name GPU_Chip        Released           Bus  \\\n",
       "0      0       GeForce RTX 3060    GA106  Jan 12th, 2021  PCIe 4.0 x16   \n",
       "1      1    GeForce RTX 3060 Ti    GA104   Dec 1st, 2020  PCIe 4.0 x16   \n",
       "2      2       GeForce RTX 3070    GA104   Sep 1st, 2020  PCIe 4.0 x16   \n",
       "3      3       GeForce RTX 3080    GA102   Sep 1st, 2020  PCIe 4.0 x16   \n",
       "4      4      Radeon RX 6600 XT  Navi 23  Jul 30th, 2021   PCIe 4.0 x8   \n",
       "5      5       GeForce RTX 2060    TU106   Jan 7th, 2019  PCIe 3.0 x16   \n",
       "6      6         Radeon RX 6600  Navi 23  Oct 13th, 2021   PCIe 4.0 x8   \n",
       "7      7  GeForce RTX 3050 8 GB    GA106   Jan 4th, 2022   PCIe 4.0 x8   \n",
       "8      8    GeForce RTX 3090 Ti    GA102  Jan 27th, 2022  PCIe 4.0 x16   \n",
       "9      9    GeForce RTX 3070 Ti    GA104  May 31st, 2021  PCIe 4.0 x16   \n",
       "\n",
       "                   Memory GPU_clock Memory_clock  \n",
       "0   12 GB, GDDR6, 192 bit  1320 MHz     1875 MHz  \n",
       "1    8 GB, GDDR6, 256 bit  1410 MHz     1750 MHz  \n",
       "2    8 GB, GDDR6, 256 bit  1500 MHz     1750 MHz  \n",
       "3  10 GB, GDDR6X, 320 bit  1440 MHz     1188 MHz  \n",
       "4    8 GB, GDDR6, 128 bit  1968 MHz     2000 MHz  \n",
       "5    6 GB, GDDR6, 192 bit  1365 MHz     1750 MHz  \n",
       "6    8 GB, GDDR6, 128 bit  1626 MHz     1750 MHz  \n",
       "7    8 GB, GDDR6, 128 bit  1552 MHz     1750 MHz  \n",
       "8  24 GB, GDDR6X, 384 bit  1560 MHz     1313 MHz  \n",
       "9   8 GB, GDDR6X, 256 bit  1575 MHz     1188 MHz  "
      ]
     },
     "execution_count": 222,
     "metadata": {},
     "output_type": "execute_result"
    }
   ],
   "source": [
    "df_remote_2 = pd.read_sql_query(sql, con = connection)\n",
    "df_remote_2.head(10)"
   ]
  },
  {
   "cell_type": "code",
   "execution_count": 223,
   "id": "ff83617c",
   "metadata": {},
   "outputs": [],
   "source": [
    "connection.close()"
   ]
  },
  {
   "cell_type": "code",
   "execution_count": null,
   "id": "e7fca861",
   "metadata": {},
   "outputs": [],
   "source": [
    "# Closing json file\n",
    "f.close()"
   ]
  }
 ],
 "metadata": {
  "kernelspec": {
   "display_name": "Python (mysql)",
   "language": "python",
   "name": "mysql"
  },
  "language_info": {
   "codemirror_mode": {
    "name": "ipython",
    "version": 3
   },
   "file_extension": ".py",
   "mimetype": "text/x-python",
   "name": "python",
   "nbconvert_exporter": "python",
   "pygments_lexer": "ipython3",
   "version": "3.7.0"
  }
 },
 "nbformat": 4,
 "nbformat_minor": 5
}
